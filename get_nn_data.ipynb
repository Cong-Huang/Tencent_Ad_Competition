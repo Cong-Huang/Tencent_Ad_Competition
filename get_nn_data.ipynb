{
 "cells": [
  {
   "cell_type": "code",
   "execution_count": 1,
   "metadata": {},
   "outputs": [],
   "source": [
    "import pandas as pd \n",
    "import numpy as np \n",
    "import time, gc, os \n",
    "from tqdm import tqdm as tqdm\n",
    "import logging\n",
    "import gensim\n",
    "from gensim.models import word2vec"
   ]
  },
  {
   "cell_type": "code",
   "execution_count": 2,
   "metadata": {},
   "outputs": [
    {
     "name": "stdout",
     "output_type": "stream",
     "text": [
      "Sat Jul  4 02:35:52 2020       \n",
      "+-----------------------------------------------------------------------------+\n",
      "| NVIDIA-SMI 418.67       Driver Version: 418.67       CUDA Version: 10.1     |\n",
      "|-------------------------------+----------------------+----------------------+\n",
      "| GPU  Name        Persistence-M| Bus-Id        Disp.A | Volatile Uncorr. ECC |\n",
      "| Fan  Temp  Perf  Pwr:Usage/Cap|         Memory-Usage | GPU-Util  Compute M. |\n",
      "|===============================+======================+======================|\n",
      "|   0  Tesla P40           On   | 00000000:00:08.0 Off |                    0 |\n",
      "| N/A   43C    P0    57W / 250W |      0MiB / 22919MiB |      0%      Default |\n",
      "+-------------------------------+----------------------+----------------------+\n",
      "|   1  Tesla P40           On   | 00000000:00:09.0 Off |                    0 |\n",
      "| N/A   40C    P0    56W / 250W |      0MiB / 22919MiB |      0%      Default |\n",
      "+-------------------------------+----------------------+----------------------+\n",
      "                                                                               \n",
      "+-----------------------------------------------------------------------------+\n",
      "| Processes:                                                       GPU Memory |\n",
      "|  GPU       PID   Type   Process name                             Usage      |\n",
      "|=============================================================================|\n",
      "|  No running processes found                                                 |\n",
      "+-----------------------------------------------------------------------------+\n"
     ]
    }
   ],
   "source": [
    "# !pip install gensim\n",
    "!nvidia-smi"
   ]
  },
  {
   "cell_type": "code",
   "execution_count": 4,
   "metadata": {},
   "outputs": [],
   "source": [
    "ad_df = pd.read_pickle(\"data/all_ad.pkl\")"
   ]
  },
  {
   "cell_type": "code",
   "execution_count": 5,
   "metadata": {},
   "outputs": [
    {
     "name": "stdout",
     "output_type": "stream",
     "text": [
      "creative_id         object\n",
      "ad_id               object\n",
      "product_id          object\n",
      "product_category    object\n",
      "advertiser_id       object\n",
      "industry            object\n",
      "dtype: object\n"
     ]
    },
    {
     "data": {
      "text/html": [
       "<div>\n",
       "<style scoped>\n",
       "    .dataframe tbody tr th:only-of-type {\n",
       "        vertical-align: middle;\n",
       "    }\n",
       "\n",
       "    .dataframe tbody tr th {\n",
       "        vertical-align: top;\n",
       "    }\n",
       "\n",
       "    .dataframe thead th {\n",
       "        text-align: right;\n",
       "    }\n",
       "</style>\n",
       "<table border=\"1\" class=\"dataframe\">\n",
       "  <thead>\n",
       "    <tr style=\"text-align: right;\">\n",
       "      <th></th>\n",
       "      <th>creative_id</th>\n",
       "      <th>ad_id</th>\n",
       "      <th>product_id</th>\n",
       "      <th>product_category</th>\n",
       "      <th>advertiser_id</th>\n",
       "      <th>industry</th>\n",
       "    </tr>\n",
       "  </thead>\n",
       "  <tbody>\n",
       "    <tr>\n",
       "      <th>0</th>\n",
       "      <td>1</td>\n",
       "      <td>1</td>\n",
       "      <td>0</td>\n",
       "      <td>5</td>\n",
       "      <td>381</td>\n",
       "      <td>78</td>\n",
       "    </tr>\n",
       "    <tr>\n",
       "      <th>1</th>\n",
       "      <td>4</td>\n",
       "      <td>4</td>\n",
       "      <td>0</td>\n",
       "      <td>5</td>\n",
       "      <td>108</td>\n",
       "      <td>202</td>\n",
       "    </tr>\n",
       "    <tr>\n",
       "      <th>2</th>\n",
       "      <td>7</td>\n",
       "      <td>7</td>\n",
       "      <td>0</td>\n",
       "      <td>5</td>\n",
       "      <td>148</td>\n",
       "      <td>297</td>\n",
       "    </tr>\n",
       "    <tr>\n",
       "      <th>3</th>\n",
       "      <td>8</td>\n",
       "      <td>8</td>\n",
       "      <td>0</td>\n",
       "      <td>5</td>\n",
       "      <td>713</td>\n",
       "      <td>213</td>\n",
       "    </tr>\n",
       "    <tr>\n",
       "      <th>4</th>\n",
       "      <td>9</td>\n",
       "      <td>9</td>\n",
       "      <td>0</td>\n",
       "      <td>5</td>\n",
       "      <td>695</td>\n",
       "      <td>213</td>\n",
       "    </tr>\n",
       "  </tbody>\n",
       "</table>\n",
       "</div>"
      ],
      "text/plain": [
       "  creative_id ad_id product_id product_category advertiser_id industry\n",
       "0           1     1          0                5           381       78\n",
       "1           4     4          0                5           108      202\n",
       "2           7     7          0                5           148      297\n",
       "3           8     8          0                5           713      213\n",
       "4           9     9          0                5           695      213"
      ]
     },
     "execution_count": 5,
     "metadata": {},
     "output_type": "execute_result"
    }
   ],
   "source": [
    "print(ad_df.dtypes)\n",
    "ad_df.head()"
   ]
  },
  {
   "cell_type": "markdown",
   "metadata": {},
   "source": [
    "# cid embedding矩阵"
   ]
  },
  {
   "cell_type": "code",
   "execution_count": 12,
   "metadata": {},
   "outputs": [
    {
     "name": "stdout",
     "output_type": "stream",
     "text": [
      "4445720\n"
     ]
    },
    {
     "name": "stderr",
     "output_type": "stream",
     "text": [
      "  0%|          | 0/4445720 [00:00<?, ?it/s]/opt/conda/envs/tensorflow_py3/lib/python3.6/site-packages/ipykernel/__main__.py:10: DeprecationWarning: Call to deprecated `__getitem__` (Method will be removed in 4.0.0, use self.wv.__getitem__() instead).\n",
      "100%|██████████| 4445720/4445720 [00:44<00:00, 99480.77it/s] \n"
     ]
    }
   ],
   "source": [
    "cid2id = dict(zip(ad_df['creative_id'].unique(), range(2, ad_df['creative_id'].nunique() + 2)))\n",
    "print(len(cid2id)) \n",
    "\n",
    "model = word2vec.Word2Vec.load('data/word2vec_model/word2vec_cid_300d.model')\n",
    "embed_size = 300\n",
    "weight = np.zeros((len(cid2id) + 2, embed_size), dtype=np.float32)\n",
    "\n",
    "for x in tqdm(cid2id.items()):\n",
    "    try:\n",
    "        weight[x[1], :] = model[x[0]]\n",
    "    except:\n",
    "        continue\n",
    "weight[1, :] = weight[2:].mean(axis=0)\n",
    "np.save('data/cid_weight_300d.npy', weight)"
   ]
  },
  {
   "cell_type": "code",
   "execution_count": 20,
   "metadata": {},
   "outputs": [
    {
     "name": "stdout",
     "output_type": "stream",
     "text": [
      "20G\tdata/word2vec_model\n",
      "4.0K\tdata/.ipynb_checkpoints\n",
      "6.2G\tdata/\n"
     ]
    }
   ],
   "source": [
    "!du -Sh data/"
   ]
  },
  {
   "cell_type": "markdown",
   "metadata": {},
   "source": [
    "# ader embedding矩阵"
   ]
  },
  {
   "cell_type": "code",
   "execution_count": 21,
   "metadata": {},
   "outputs": [
    {
     "name": "stdout",
     "output_type": "stream",
     "text": [
      "62965\n"
     ]
    },
    {
     "name": "stderr",
     "output_type": "stream",
     "text": [
      "  0%|          | 0/62965 [00:00<?, ?it/s]/opt/conda/envs/tensorflow_py3/lib/python3.6/site-packages/ipykernel/__main__.py:10: DeprecationWarning: Call to deprecated `__getitem__` (Method will be removed in 4.0.0, use self.wv.__getitem__() instead).\n",
      "100%|██████████| 62965/62965 [00:00<00:00, 103075.89it/s]\n"
     ]
    }
   ],
   "source": [
    "ader2id = dict(zip(ad_df['advertiser_id'].unique(), range(2, ad_df['advertiser_id'].nunique() + 2)))\n",
    "print(len(ader2id)) \n",
    "\n",
    "model = word2vec.Word2Vec.load('data/word2vec_model/word2vec_ader_300d.model')\n",
    "embed_size = 300\n",
    "weight = np.zeros((len(ader2id) + 2, embed_size), dtype=np.float32)\n",
    "\n",
    "for x in tqdm(ader2id.items()):\n",
    "    try:\n",
    "        weight[x[1], :] = model[x[0]]\n",
    "    except:\n",
    "        continue\n",
    "weight[1, :] = weight[2:].mean(axis=0)\n",
    "np.save('data/ader_weight_300d.npy', weight)"
   ]
  },
  {
   "cell_type": "markdown",
   "metadata": {},
   "source": [
    "# adid embedding矩阵"
   ]
  },
  {
   "cell_type": "code",
   "execution_count": 22,
   "metadata": {},
   "outputs": [
    {
     "name": "stdout",
     "output_type": "stream",
     "text": [
      "3812202\n"
     ]
    },
    {
     "name": "stderr",
     "output_type": "stream",
     "text": [
      "  0%|          | 0/3812202 [00:00<?, ?it/s]/opt/conda/envs/tensorflow_py3/lib/python3.6/site-packages/ipykernel/__main__.py:10: DeprecationWarning: Call to deprecated `__getitem__` (Method will be removed in 4.0.0, use self.wv.__getitem__() instead).\n",
      "100%|██████████| 3812202/3812202 [00:38<00:00, 99473.96it/s] \n"
     ]
    }
   ],
   "source": [
    "adid2id = dict(zip(ad_df['ad_id'].unique(), range(2, ad_df['ad_id'].nunique() + 2)))\n",
    "print(len(adid2id)) \n",
    "\n",
    "model = word2vec.Word2Vec.load('data/word2vec_model/word2vec_adid_300d.model')\n",
    "embed_size = 300\n",
    "weight = np.zeros((len(adid2id) + 2, embed_size), dtype=np.float32)\n",
    "\n",
    "for x in tqdm(adid2id.items()):\n",
    "    try:\n",
    "        weight[x[1], :] = model[x[0]]\n",
    "    except:\n",
    "        continue\n",
    "weight[1, :] = weight[2:].mean(axis=0)\n",
    "np.save('data/adid_weight_300d.npy', weight)"
   ]
  },
  {
   "cell_type": "markdown",
   "metadata": {},
   "source": [
    "# pid embedding矩阵"
   ]
  },
  {
   "cell_type": "code",
   "execution_count": 26,
   "metadata": {},
   "outputs": [
    {
     "name": "stdout",
     "output_type": "stream",
     "text": [
      "44315\n"
     ]
    },
    {
     "name": "stderr",
     "output_type": "stream",
     "text": [
      "  0%|          | 0/44315 [00:00<?, ?it/s]/opt/conda/envs/tensorflow_py3/lib/python3.6/site-packages/ipykernel/__main__.py:10: DeprecationWarning: Call to deprecated `__getitem__` (Method will be removed in 4.0.0, use self.wv.__getitem__() instead).\n",
      "100%|██████████| 44315/44315 [00:00<00:00, 102892.56it/s]\n"
     ]
    }
   ],
   "source": [
    "pid2id = dict(zip(ad_df['product_id'].unique(), range(2, ad_df['product_id'].nunique() + 2)))\n",
    "print(len(pid2id)) \n",
    "\n",
    "model = word2vec.Word2Vec.load('data/word2vec_model/word2vec_pid_300d.model')\n",
    "embed_size = 300\n",
    "weight = np.zeros((len(pid2id) + 2, embed_size), dtype=np.float32)\n",
    "\n",
    "for x in tqdm(pid2id.items()):\n",
    "    try:\n",
    "        weight[x[1], :] = model[x[0]]\n",
    "    except:\n",
    "        continue\n",
    "weight[1, :] = weight[2:].mean(axis=0)\n",
    "np.save('data/pid_weight_300d.npy', weight)"
   ]
  },
  {
   "cell_type": "code",
   "execution_count": null,
   "metadata": {},
   "outputs": [],
   "source": []
  },
  {
   "cell_type": "markdown",
   "metadata": {},
   "source": [
    "# 得到nn模型所需的id文件"
   ]
  },
  {
   "cell_type": "code",
   "execution_count": 40,
   "metadata": {},
   "outputs": [],
   "source": [
    "# %%time\n",
    "\n",
    "# maxlen = 90\n",
    "\n",
    "# train_xlen = [0]*3000000\n",
    "# with open(\"data/user_creative_ids_train.txt\", encoding='utf-8') as f:\n",
    "#     for i, line in tqdm(enumerate(f)):\n",
    "#         x = line.split(\"\\t\")\n",
    "#         ids = x[1]\n",
    "#         x = ids.split()\n",
    "#         train_xlen[i] = len(x)\n",
    "# train_xlen = np.array(train_xlen)\n",
    "# print(pd.Series(train_xlen).describe())\n",
    "# print(np.percentile(train_xlen, 99))"
   ]
  },
  {
   "cell_type": "code",
   "execution_count": 2,
   "metadata": {},
   "outputs": [
    {
     "data": {
      "text/html": [
       "<div>\n",
       "<style scoped>\n",
       "    .dataframe tbody tr th:only-of-type {\n",
       "        vertical-align: middle;\n",
       "    }\n",
       "\n",
       "    .dataframe tbody tr th {\n",
       "        vertical-align: top;\n",
       "    }\n",
       "\n",
       "    .dataframe thead th {\n",
       "        text-align: right;\n",
       "    }\n",
       "</style>\n",
       "<table border=\"1\" class=\"dataframe\">\n",
       "  <thead>\n",
       "    <tr style=\"text-align: right;\">\n",
       "      <th></th>\n",
       "      <th>creative_id</th>\n",
       "      <th>ad_id</th>\n",
       "      <th>product_id</th>\n",
       "      <th>product_category</th>\n",
       "      <th>advertiser_id</th>\n",
       "      <th>industry</th>\n",
       "    </tr>\n",
       "  </thead>\n",
       "  <tbody>\n",
       "    <tr>\n",
       "      <th>0</th>\n",
       "      <td>1</td>\n",
       "      <td>1</td>\n",
       "      <td>0</td>\n",
       "      <td>5</td>\n",
       "      <td>381</td>\n",
       "      <td>78</td>\n",
       "    </tr>\n",
       "    <tr>\n",
       "      <th>1</th>\n",
       "      <td>4</td>\n",
       "      <td>4</td>\n",
       "      <td>0</td>\n",
       "      <td>5</td>\n",
       "      <td>108</td>\n",
       "      <td>202</td>\n",
       "    </tr>\n",
       "    <tr>\n",
       "      <th>2</th>\n",
       "      <td>7</td>\n",
       "      <td>7</td>\n",
       "      <td>0</td>\n",
       "      <td>5</td>\n",
       "      <td>148</td>\n",
       "      <td>297</td>\n",
       "    </tr>\n",
       "    <tr>\n",
       "      <th>3</th>\n",
       "      <td>8</td>\n",
       "      <td>8</td>\n",
       "      <td>0</td>\n",
       "      <td>5</td>\n",
       "      <td>713</td>\n",
       "      <td>213</td>\n",
       "    </tr>\n",
       "    <tr>\n",
       "      <th>4</th>\n",
       "      <td>9</td>\n",
       "      <td>9</td>\n",
       "      <td>0</td>\n",
       "      <td>5</td>\n",
       "      <td>695</td>\n",
       "      <td>213</td>\n",
       "    </tr>\n",
       "  </tbody>\n",
       "</table>\n",
       "</div>"
      ],
      "text/plain": [
       "  creative_id ad_id product_id product_category advertiser_id industry\n",
       "0           1     1          0                5           381       78\n",
       "1           4     4          0                5           108      202\n",
       "2           7     7          0                5           148      297\n",
       "3           8     8          0                5           713      213\n",
       "4           9     9          0                5           695      213"
      ]
     },
     "execution_count": 2,
     "metadata": {},
     "output_type": "execute_result"
    }
   ],
   "source": [
    "import pandas as pd\n",
    "ad_df = pd.read_pickle(\"data/all_ad.pkl\")\n",
    "ad_df.head()"
   ]
  },
  {
   "cell_type": "code",
   "execution_count": 3,
   "metadata": {},
   "outputs": [
    {
     "name": "stdout",
     "output_type": "stream",
     "text": [
      "creative_id 4445720\n",
      "ad_id 3812202\n",
      "product_id 44315\n",
      "product_category 18\n",
      "advertiser_id 62965\n",
      "industry 336\n"
     ]
    }
   ],
   "source": [
    "for col in ad_df.columns:\n",
    "    print(col, ad_df[col].nunique())"
   ]
  },
  {
   "cell_type": "markdown",
   "metadata": {},
   "source": [
    "# 广告类别转换"
   ]
  },
  {
   "cell_type": "code",
   "execution_count": 4,
   "metadata": {},
   "outputs": [],
   "source": [
    "cid2ader = dict(zip(ad_df[\"creative_id\"], ad_df[\"advertiser_id\"]))\n",
    "cid2adid = dict(zip(ad_df[\"creative_id\"], ad_df[\"ad_id\"]))\n",
    "cid2pid = dict(zip(ad_df[\"creative_id\"], ad_df[\"product_id\"]))\n",
    "\n",
    "cid2pcat = dict(zip(ad_df[\"creative_id\"], ad_df[\"product_category\"]))\n",
    "cid2ind = dict(zip(ad_df[\"creative_id\"], ad_df[\"industry\"]))"
   ]
  },
  {
   "cell_type": "code",
   "execution_count": null,
   "metadata": {},
   "outputs": [],
   "source": []
  },
  {
   "cell_type": "code",
   "execution_count": 5,
   "metadata": {},
   "outputs": [],
   "source": [
    "cid2id = dict(zip(ad_df['creative_id'].unique(), range(2, ad_df['creative_id'].nunique() + 2)))\n",
    "ader2id = dict(zip(ad_df['advertiser_id'].unique(), range(2, ad_df['advertiser_id'].nunique() + 2)))\n",
    "adid2id = dict(zip(ad_df['ad_id'].unique(), range(2, ad_df['ad_id'].nunique() + 2)))\n",
    "pid2id = dict(zip(ad_df['product_id'].unique(), range(2, ad_df['product_id'].nunique() + 2)))\n",
    "\n",
    "pcat2id = dict(zip(ad_df['product_category'].unique(), range(2, ad_df['product_category'].nunique() + 2)))\n",
    "ind2id = dict(zip(ad_df['industry'].unique(), range(2, ad_df['industry'].nunique() + 2)))"
   ]
  },
  {
   "cell_type": "code",
   "execution_count": 6,
   "metadata": {},
   "outputs": [
    {
     "name": "stdout",
     "output_type": "stream",
     "text": [
      "4445722 62967 3812204 44317 20 338\n"
     ]
    }
   ],
   "source": [
    "print(len(cid2id)+2, len(ader2id)+2, len(adid2id)+2, len(pid2id)+2, len(pcat2id)+2, len(ind2id)+2)"
   ]
  },
  {
   "cell_type": "code",
   "execution_count": 7,
   "metadata": {},
   "outputs": [
    {
     "name": "stdout",
     "output_type": "stream",
     "text": [
      "(3000000, 3)\n"
     ]
    }
   ],
   "source": [
    "# 读取user数据（标签数据）\n",
    "user = pd.read_csv(\"data/all_user.csv\")\n",
    "print(user.shape)\n",
    "uid2age = dict(zip(user['user_id'], user['age']))\n",
    "uid2gender = dict(zip(user['user_id'], user['gender']))"
   ]
  },
  {
   "cell_type": "markdown",
   "metadata": {},
   "source": [
    "# 训练集处理"
   ]
  },
  {
   "cell_type": "code",
   "execution_count": 8,
   "metadata": {},
   "outputs": [
    {
     "name": "stderr",
     "output_type": "stream",
     "text": [
      "3000000it [12:34, 3977.40it/s]\n"
     ]
    },
    {
     "name": "stdout",
     "output_type": "stream",
     "text": [
      "(3000000, 150) (3000000, 150) (3000000, 150) (3000000, 150) (3000000, 150) (3000000, 150) (3000000,) (3000000,)\n",
      "CPU times: user 16min 37s, sys: 18.3 s, total: 16min 56s\n",
      "Wall time: 16min 52s\n"
     ]
    }
   ],
   "source": [
    "%%time\n",
    "\n",
    "maxlen = 150\n",
    "\n",
    "train_cid = []\n",
    "train_ader = []\n",
    "train_pid = []\n",
    "train_adid = []\n",
    "train_pcat = []\n",
    "train_ind = []\n",
    "\n",
    "train_age = []\n",
    "train_gender = []\n",
    "\n",
    "with open(\"data/user_creative_ids_train.txt\", encoding='utf-8') as f:\n",
    "    for line in tqdm(f):\n",
    "        x = line.split(\"\\t\")\n",
    "        uid = int(x[0])  # user_id\n",
    "        cid = x[1].split()   # cid_sequence\n",
    "        # cid\n",
    "        x_cid = [cid2id.get(i, 1) for i in cid]\n",
    "        \n",
    "        # ader\n",
    "        x_ader = [cid2ader.get(i, '0') for i in cid]\n",
    "        x_ader = [ader2id.get(i, 1) for i in x_ader]\n",
    "        \n",
    "        # adid\n",
    "        x_adid = [cid2adid.get(i, '0') for i in cid]\n",
    "        x_adid = [adid2id.get(i, 1) for i in x_adid]\n",
    "        \n",
    "        # pid\n",
    "        x_pid = [cid2pid.get(i, '0') for i in cid]\n",
    "        x_pid = [pid2id.get(i, 1) for i in x_pid]\n",
    "        \n",
    "        # pcat\n",
    "        x_pcat = [cid2pcat.get(i, '0') for i in cid]\n",
    "        x_pcat = [pcat2id.get(i, 1) for i in x_pcat]\n",
    "        \n",
    "        # ind \n",
    "        x_ind = [cid2ind.get(i, '0') for i in cid]\n",
    "        x_ind = [ind2id.get(i, 1) for i in x_ind]\n",
    "        \n",
    "        assert len(x_cid) == len(x_ader) == len(x_adid) == len(x_pid) == len(x_pcat) == len(x_ind)\n",
    "        \n",
    "        if len(cid) >= maxlen:\n",
    "            x_cid = x_cid[:maxlen]\n",
    "            x_ader = x_ader[:maxlen]\n",
    "            x_adid = x_adid[:maxlen]\n",
    "            x_pid = x_pid[:maxlen]\n",
    "            x_pcat = x_pcat[:maxlen]\n",
    "            x_ind = x_ind[:maxlen]\n",
    "            \n",
    "        elif len(cid) < maxlen:\n",
    "            x_cid = x_cid + [0] * (maxlen - len(cid))\n",
    "            x_ader = x_ader + [0] * (maxlen - len(cid))\n",
    "            x_adid = x_adid + [0] * (maxlen - len(cid))\n",
    "            x_pid = x_pid + [0] * (maxlen - len(cid))\n",
    "            x_pcat = x_pcat + [0] * (maxlen - len(cid))\n",
    "            x_ind = x_ind + [0] * (maxlen - len(cid))\n",
    "\n",
    "        train_cid.append(x_cid)\n",
    "        train_ader.append(x_ader)\n",
    "        train_adid.append(x_adid)\n",
    "        train_pid.append(x_pid)\n",
    "        train_pcat.append(x_pcat)\n",
    "        train_ind.append(x_ind)\n",
    "        \n",
    "        train_age.append(uid2age[uid])\n",
    "        train_gender.append(uid2gender[uid])\n",
    "\n",
    "train_cid = np.array(train_cid, dtype=np.int32)\n",
    "train_ader = np.array(train_ader, dtype=np.int32)   # 广告主id序列\n",
    "train_adid = np.array(train_adid, dtype=np.int32)\n",
    "train_pid = np.array(train_pid, dtype=np.int32)\n",
    "train_pcat = np.array(train_pcat, dtype=np.int32)\n",
    "train_ind = np.array(train_ind, dtype=np.int32)\n",
    "\n",
    "train_age = np.array(train_age, dtype=np.int32) - 1\n",
    "train_gender = np.array(train_gender, dtype=np.int32) - 1\n",
    "\n",
    "print(train_cid.shape, train_ader.shape, train_adid.shape, train_pid.shape, \n",
    "      train_pcat.shape, train_ind.shape, \n",
    "      train_age.shape, train_gender.shape)"
   ]
  },
  {
   "cell_type": "code",
   "execution_count": 9,
   "metadata": {},
   "outputs": [],
   "source": [
    "np.save(\"data/nn_data/train_pcat.npy\", train_pcat)\n",
    "np.save(\"data/nn_data/train_ind.npy\", train_ind)"
   ]
  },
  {
   "cell_type": "code",
   "execution_count": 10,
   "metadata": {},
   "outputs": [],
   "source": [
    "np.save(\"data/nn_data/train_cid.npy\", train_cid)\n",
    "np.save(\"data/nn_data/train_ader.npy\", train_ader)\n",
    "np.save(\"data/nn_data/train_adid.npy\", train_adid)\n",
    "np.save(\"data/nn_data/train_pid.npy\", train_pid)\n",
    "\n",
    "np.save(\"data/nn_data/train_age.npy\", train_age)\n",
    "np.save(\"data/nn_data/train_gender.npy\", train_gender)"
   ]
  },
  {
   "cell_type": "markdown",
   "metadata": {},
   "source": [
    "# 测试集处理"
   ]
  },
  {
   "cell_type": "code",
   "execution_count": 11,
   "metadata": {},
   "outputs": [
    {
     "name": "stderr",
     "output_type": "stream",
     "text": [
      "1000000it [03:41, 4523.20it/s]\n"
     ]
    },
    {
     "name": "stdout",
     "output_type": "stream",
     "text": [
      "(1000000, 150) (1000000, 150) (1000000, 150) (1000000, 150) (1000000, 150) (1000000, 150)\n"
     ]
    }
   ],
   "source": [
    "maxlen = 150\n",
    "\n",
    "test_cid = []\n",
    "test_ader = []\n",
    "test_pid = []\n",
    "test_adid = []\n",
    "test_pcat = []\n",
    "test_ind = []\n",
    "\n",
    "\n",
    "with open(\"data/user_creative_ids_test.txt\", encoding='utf-8') as f:\n",
    "    for line in tqdm(f):\n",
    "        x = line.split(\"\\t\")\n",
    "        uid = int(x[0])  # user_id\n",
    "        cid = x[1].split()   # cid_sequence\n",
    "        # cid\n",
    "        x_cid = [cid2id.get(i, 1) for i in cid]\n",
    "        \n",
    "        # ader\n",
    "        x_ader = [cid2ader.get(i, '0') for i in cid]\n",
    "        x_ader = [ader2id.get(i, 1) for i in x_ader]\n",
    "        \n",
    "        # adid\n",
    "        x_adid = [cid2adid.get(i, '0') for i in cid]\n",
    "        x_adid = [adid2id.get(i, 1) for i in x_adid]\n",
    "        \n",
    "        # pid\n",
    "        x_pid = [cid2pid.get(i, '0') for i in cid]\n",
    "        x_pid = [pid2id.get(i, 1) for i in x_pid]\n",
    "        \n",
    "        # pcat\n",
    "        x_pcat = [cid2pcat.get(i, '0') for i in cid]\n",
    "        x_pcat = [pcat2id.get(i, 1) for i in x_pcat]\n",
    "        \n",
    "        # ind \n",
    "        x_ind = [cid2ind.get(i, '0') for i in cid]\n",
    "        x_ind = [ind2id.get(i, 1) for i in x_ind]\n",
    "        \n",
    "        assert len(x_cid) == len(x_ader) == len(x_adid) == len(x_pid) == len(x_pcat) == len(x_ind)\n",
    "        \n",
    "        if len(cid) > maxlen:\n",
    "            x_cid = x_cid[:maxlen]\n",
    "            x_ader = x_ader[:maxlen]\n",
    "            x_adid = x_adid[:maxlen]\n",
    "            x_pid = x_pid[:maxlen]\n",
    "            x_pcat = x_pcat[:maxlen]\n",
    "            x_ind = x_ind[:maxlen]\n",
    "            \n",
    "        else:\n",
    "            x_cid = x_cid + [0] * (maxlen - len(cid))\n",
    "            x_ader = x_ader + [0] * (maxlen - len(cid))\n",
    "            x_adid = x_adid + [0] * (maxlen - len(cid))\n",
    "            x_pid = x_pid + [0] * (maxlen - len(cid))\n",
    "            x_pcat = x_pcat + [0] * (maxlen - len(cid))\n",
    "            x_ind = x_ind + [0] * (maxlen - len(cid))\n",
    "            \n",
    "        test_cid.append(x_cid)\n",
    "        test_ader.append(x_ader)\n",
    "        test_adid.append(x_adid)\n",
    "        test_pid.append(x_pid)\n",
    "        test_pcat.append(x_pcat)\n",
    "        test_ind.append(x_ind)\n",
    "\n",
    "test_cid = np.array(test_cid, dtype=np.int32)\n",
    "test_ader = np.array(test_ader, dtype=np.int32)   # 广告主id序列\n",
    "test_adid = np.array(test_adid, dtype=np.int32)\n",
    "test_pid = np.array(test_pid, dtype=np.int32)\n",
    "test_pcat = np.array(test_pcat, dtype=np.int32)\n",
    "test_ind = np.array(test_ind, dtype=np.int32)\n",
    "\n",
    "print(test_cid.shape, test_ader.shape, test_adid.shape, \n",
    "      test_pid.shape, test_pcat.shape, test_ind.shape)"
   ]
  },
  {
   "cell_type": "code",
   "execution_count": 12,
   "metadata": {},
   "outputs": [],
   "source": [
    "np.save(\"data/nn_data/test_pcat.npy\", test_pcat)\n",
    "np.save(\"data/nn_data/test_ind.npy\", test_ind)"
   ]
  },
  {
   "cell_type": "code",
   "execution_count": 13,
   "metadata": {},
   "outputs": [],
   "source": [
    "np.save(\"data/nn_data/test_cid.npy\", test_cid)\n",
    "np.save(\"data/nn_data/test_ader.npy\", test_ader)\n",
    "np.save(\"data/nn_data/test_adid.npy\", test_adid)\n",
    "np.save(\"data/nn_data/test_pid.npy\", test_pid)"
   ]
  },
  {
   "cell_type": "code",
   "execution_count": null,
   "metadata": {},
   "outputs": [],
   "source": []
  }
 ],
 "metadata": {
  "kernelspec": {
   "display_name": "conda_tensorflow_py3",
   "language": "python",
   "name": "conda_tensorflow_py3"
  },
  "language_info": {
   "codemirror_mode": {
    "name": "ipython",
    "version": 3
   },
   "file_extension": ".py",
   "mimetype": "text/x-python",
   "name": "python",
   "nbconvert_exporter": "python",
   "pygments_lexer": "ipython3",
   "version": "3.6.5"
  }
 },
 "nbformat": 4,
 "nbformat_minor": 4
}
