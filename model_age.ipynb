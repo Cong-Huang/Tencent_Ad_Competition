{
 "cells": [
  {
   "cell_type": "code",
   "execution_count": 1,
   "metadata": {},
   "outputs": [
    {
     "name": "stderr",
     "output_type": "stream",
     "text": [
      "Using TensorFlow backend.\n"
     ]
    }
   ],
   "source": [
    "import json, time, os, gc, math\n",
    "import datetime\n",
    "from tqdm import tqdm \n",
    "import numpy as np \n",
    "import pandas as pd \n",
    "import tensorflow as tf \n",
    "import keras\n",
    "import keras.backend as K  \n",
    "from keras.layers import *\n",
    "from keras.models import Model\n",
    "from keras.optimizers import Adam\n",
    "from keras.utils import to_categorical, multi_gpu_model\n",
    "from keras.callbacks import *\n",
    "from keras.preprocessing.sequence import pad_sequences\n",
    "# from gensim.models import word2vec \n",
    "from sklearn.metrics import accuracy_score\n",
    "from sklearn.model_selection import train_test_split, KFold, cross_val_score, StratifiedKFold\n",
    "# from utils.opt import AdamW, RAdam\n",
    "import logging\n",
    "\n",
    "os.environ['CUDA_VISIBLE_DEVICES'] = \"0,1\"\n",
    "gpus = os.environ['CUDA_VISIBLE_DEVICES'].split(\",\")"
   ]
  },
  {
   "cell_type": "code",
   "execution_count": 3,
   "metadata": {},
   "outputs": [],
   "source": [
    "# !pip install keras==2.2.4\n",
    "# gpus"
   ]
  },
  {
   "cell_type": "code",
   "execution_count": 2,
   "metadata": {},
   "outputs": [
    {
     "name": "stdout",
     "output_type": "stream",
     "text": [
      "              total        used        free      shared  buff/cache   available\n",
      "Mem:         112298        2650       79825          18       29821      109471\n",
      "Swap:             0           0           0\n",
      "Sun Jul 19 02:37:16 2020       \n",
      "+-----------------------------------------------------------------------------+\n",
      "| NVIDIA-SMI 418.67       Driver Version: 418.67       CUDA Version: 10.1     |\n",
      "|-------------------------------+----------------------+----------------------+\n",
      "| GPU  Name        Persistence-M| Bus-Id        Disp.A | Volatile Uncorr. ECC |\n",
      "| Fan  Temp  Perf  Pwr:Usage/Cap|         Memory-Usage | GPU-Util  Compute M. |\n",
      "|===============================+======================+======================|\n",
      "|   0  Tesla P40           On   | 00000000:00:08.0 Off |                    0 |\n",
      "| N/A   34C    P8     9W / 250W |      0MiB / 22919MiB |      0%      Default |\n",
      "+-------------------------------+----------------------+----------------------+\n",
      "|   1  Tesla P40           On   | 00000000:00:09.0 Off |                    0 |\n",
      "| N/A   35C    P8    11W / 250W |      0MiB / 22919MiB |      0%      Default |\n",
      "+-------------------------------+----------------------+----------------------+\n",
      "                                                                               \n",
      "+-----------------------------------------------------------------------------+\n",
      "| Processes:                                                       GPU Memory |\n",
      "|  GPU       PID   Type   Process name                             Usage      |\n",
      "|=============================================================================|\n",
      "|  No running processes found                                                 |\n",
      "+-----------------------------------------------------------------------------+\n"
     ]
    }
   ],
   "source": [
    "!free -m\n",
    "!nvidia-smi"
   ]
  },
  {
   "cell_type": "code",
   "execution_count": 3,
   "metadata": {},
   "outputs": [],
   "source": [
    "maxlen = 150\n",
    "w2v_size = 300\n",
    "batch_size = 256\n",
    "random_seed = 2020\n",
    "drop_p = 0.20\n",
    "sp_drop = 0.20\n",
    "l2_rate = 1e-5\n",
    "model_name = 'bilstm_attr_v1'"
   ]
  },
  {
   "cell_type": "code",
   "execution_count": 4,
   "metadata": {},
   "outputs": [
    {
     "name": "stdout",
     "output_type": "stream",
     "text": [
      "02:37:23 : bilstm_attr_v1\n",
      "\n",
      "02:39:37 : data loaded\n",
      "\n",
      "CPU times: user 52 ms, sys: 14 s, total: 14 s\n",
      "Wall time: 2min 13s\n"
     ]
    }
   ],
   "source": [
    "%%time\n",
    "\n",
    "file_name = \"data/log/\"+datetime.date.today().strftime('%m%d')+\"_{}.log\".format(model_name)\n",
    "def write_log(w):\n",
    "    t0 = datetime.datetime.now().strftime('%H:%M:%S')\n",
    "    info = \"{} : {}\\n\".format(t0, w)\n",
    "    print(info)\n",
    "    with open(file_name, 'a') as f:\n",
    "        f.write(info)\n",
    "        f.write(\"-\"*80+\"\\n\")\n",
    "write_log(model_name)\n",
    "\n",
    "creative_id_emb_matrix = np.load(\"data/cid_weight_300d.npy\")\n",
    "ad_id_emb_matrix = np.load(\"data/adid_weight_300d.npy\")\n",
    "product_id_emb_matrix = np.load(\"data/pid_weight_300d.npy\")\n",
    "advertiser_id_emb_matrix = np.load(\"data/ader_weight_300d.npy\")\n",
    "\n",
    "train_cid = np.load(\"data/nn_data/train_cid.npy\")\n",
    "train_ader = np.load(\"data/nn_data/train_ader.npy\")\n",
    "train_adid = np.load(\"data/nn_data/train_adid.npy\")\n",
    "train_pid = np.load(\"data/nn_data/train_pid.npy\")\n",
    "train_pcat = np.load(\"data/nn_data/train_pcat.npy\")\n",
    "train_ind = np.load(\"data/nn_data/train_ind.npy\")\n",
    "\n",
    "train_age = np.load(\"data/nn_data/train_age.npy\")\n",
    "write_log(\"data loaded\")"
   ]
  },
  {
   "cell_type": "code",
   "execution_count": 5,
   "metadata": {},
   "outputs": [
    {
     "name": "stdout",
     "output_type": "stream",
     "text": [
      "CPU times: user 1.96 s, sys: 4.68 s, total: 6.64 s\n",
      "Wall time: 6.66 s\n"
     ]
    }
   ],
   "source": [
    "%%time\n",
    "\n",
    "train_cid = train_cid.astype(np.int32)\n",
    "train_ader = train_ader.astype(np.int32)\n",
    "train_adid = train_adid.astype(np.int32)\n",
    "train_pid = train_pid.astype(np.int32)\n",
    "train_pcat = train_pcat.astype(np.int32)\n",
    "train_ind = train_ind.astype(np.int32)\n",
    "\n",
    "train_age = train_age.astype(np.int32)"
   ]
  },
  {
   "cell_type": "code",
   "execution_count": 6,
   "metadata": {},
   "outputs": [],
   "source": [
    "# train_cid = train_cid[:, :140]\n",
    "# train_ader = train_ader[:, :140]\n",
    "# train_adid = train_adid[:, :140]\n",
    "# train_pid = train_pid[:, :140]\n",
    "# train_pcat = train_pcat[:, :140]\n",
    "# train_ind = train_ind[:, :140]"
   ]
  },
  {
   "cell_type": "code",
   "execution_count": 10,
   "metadata": {},
   "outputs": [
    {
     "name": "stdout",
     "output_type": "stream",
     "text": [
      "              total        used        free      shared  buff/cache   available\n",
      "Mem:         112298       22418       51019          18       38860       89703\n",
      "Swap:             0           0           0\n"
     ]
    }
   ],
   "source": [
    "!free -m"
   ]
  },
  {
   "cell_type": "code",
   "execution_count": 7,
   "metadata": {},
   "outputs": [],
   "source": [
    "splits = list(KFold(n_splits=5, shuffle=True, random_state=2020666).split(train_cid, train_age))"
   ]
  },
  {
   "cell_type": "code",
   "execution_count": 8,
   "metadata": {},
   "outputs": [
    {
     "name": "stdout",
     "output_type": "stream",
     "text": [
      "[      1       4       5 ... 2999996 2999997 2999999] [      0       2       3 ... 2999987 2999989 2999998]\n",
      "[      0       1       2 ... 2999997 2999998 2999999] [      5       8      11 ... 2999977 2999979 2999981]\n",
      "[      0       1       2 ... 2999994 2999995 2999998] [      6       7       9 ... 2999996 2999997 2999999]\n",
      "[      0       1       2 ... 2999997 2999998 2999999] [     15      25      26 ... 2999993 2999994 2999995]\n",
      "[      0       2       3 ... 2999997 2999998 2999999] [      1       4      10 ... 2999983 2999986 2999990]\n"
     ]
    }
   ],
   "source": [
    "for idx, (trn_idx, val_idx) in enumerate(splits):\n",
    "    print(trn_idx, val_idx)"
   ]
  },
  {
   "cell_type": "code",
   "execution_count": 8,
   "metadata": {},
   "outputs": [],
   "source": [
    "kern_reg = regularizers.l2(l2_rate)\n",
    "class Attention(Layer):\n",
    "    \"\"\"多头自注意力机制\n",
    "    \"\"\"\n",
    "    def __init__(self, nb_head, size_per_head, **kwargs):\n",
    "        self.nb_head = nb_head\n",
    "        self.size_per_head = size_per_head\n",
    "        self.out_dim = nb_head * size_per_head\n",
    "        super(Attention, self).__init__(**kwargs)\n",
    "    def build(self, input_shape):\n",
    "        super(Attention, self).build(input_shape)\n",
    "        q_in_dim = input_shape[0][-1]\n",
    "        k_in_dim = input_shape[1][-1]\n",
    "        v_in_dim = input_shape[2][-1]\n",
    "        self.q_kernel = self.add_weight(name='q_kernel',\n",
    "                                        shape=(q_in_dim, self.out_dim),\n",
    "                                        regularizer= kern_reg,\n",
    "                                        initializer='glorot_normal')\n",
    "        self.k_kernel = self.add_weight(name='k_kernel',\n",
    "                                        shape=(k_in_dim, self.out_dim),\n",
    "                                        regularizer= kern_reg,\n",
    "                                        initializer='glorot_normal')\n",
    "        self.v_kernel = self.add_weight(name='w_kernel',\n",
    "                                        shape=(v_in_dim, self.out_dim),\n",
    "                                        regularizer= kern_reg,\n",
    "                                        initializer='glorot_normal')\n",
    "    def mask(self, x, mask, mode='mul'):\n",
    "        if mask is None:\n",
    "            return x\n",
    "        else:\n",
    "            for _ in range(K.ndim(x) - K.ndim(mask)):\n",
    "                mask = K.expand_dims(mask, K.ndim(mask))\n",
    "            if mode == 'mul':\n",
    "                return x * mask\n",
    "            else:\n",
    "                return x - (1 - mask) * 1e10\n",
    "    def call(self, inputs):\n",
    "        q, k, v = inputs[:3]\n",
    "        v_mask, q_mask = None, None\n",
    "        if len(inputs) > 3:\n",
    "            v_mask = inputs[3]\n",
    "            if len(inputs) > 4:\n",
    "                q_mask = inputs[4]\n",
    "        # 线性变换\n",
    "        qw = K.dot(q, self.q_kernel)\n",
    "        kw = K.dot(k, self.k_kernel)\n",
    "        vw = K.dot(v, self.v_kernel)\n",
    "        # 形状变换\n",
    "        qw = K.reshape(qw, (-1, K.shape(qw)[1], self.nb_head, self.size_per_head))\n",
    "        kw = K.reshape(kw, (-1, K.shape(kw)[1], self.nb_head, self.size_per_head))\n",
    "        vw = K.reshape(vw, (-1, K.shape(vw)[1], self.nb_head, self.size_per_head))\n",
    "        # 维度置换\n",
    "        qw = K.permute_dimensions(qw, (0, 2, 1, 3))\n",
    "        kw = K.permute_dimensions(kw, (0, 2, 1, 3))\n",
    "        vw = K.permute_dimensions(vw, (0, 2, 1, 3))\n",
    "        # Attention\n",
    "        a = K.batch_dot(qw, kw, [3, 3]) / self.size_per_head**0.5\n",
    "        a = K.permute_dimensions(a, (0, 3, 2, 1))\n",
    "        a = self.mask(a, v_mask, 'add')\n",
    "        a = K.permute_dimensions(a, (0, 3, 2, 1))\n",
    "        a = K.softmax(a)\n",
    "        # 完成输出\n",
    "        o = K.batch_dot(a, vw, [3, 2])\n",
    "        o = K.permute_dimensions(o, (0, 2, 1, 3))\n",
    "        o = K.reshape(o, (-1, K.shape(o)[1], self.out_dim))\n",
    "        o = self.mask(o, q_mask, 'mul')\n",
    "        return o\n",
    "    def compute_output_shape(self, input_shape):\n",
    "        return (input_shape[0][0], input_shape[0][1], self.out_dim)"
   ]
  },
  {
   "cell_type": "code",
   "execution_count": 10,
   "metadata": {},
   "outputs": [],
   "source": [
    "kern_reg = regularizers.l2(l2_rate)\n",
    "def get_model(input_len, emb_size, drop_p=0.2, sp_drop=0.2): \n",
    "    cid = Input(shape=(input_len, ), name='cid')\n",
    "    adid = Input(shape=(input_len, ), name='adid')\n",
    "    aderid = Input(shape=(input_len, ), name='aderid')\n",
    "    prodid = Input(shape=(input_len, ), name='prodid')\n",
    "    # timeid = Input(shape=(input_len, ), name='timeid')\n",
    "    pcid = Input(shape=(input_len, ), name='pcid')\n",
    "    inid = Input(shape=(input_len, ), name='inid')\n",
    "    \n",
    "#     clk_times = Input(shape=(input_len, ), name='clk_times')\n",
    "    \n",
    "    emb0 = Embedding(creative_id_emb_matrix.shape[0], creative_id_emb_matrix.shape[1],\n",
    "                      weights=[creative_id_emb_matrix], trainable=False)(cid)\n",
    "    emb1 = Embedding(ad_id_emb_matrix.shape[0], ad_id_emb_matrix.shape[1],\n",
    "                      weights=[ad_id_emb_matrix], trainable=False)(adid)\n",
    "    emb2 = Embedding(advertiser_id_emb_matrix.shape[0], advertiser_id_emb_matrix.shape[1],\n",
    "                      weights=[advertiser_id_emb_matrix], trainable=False)(aderid)\n",
    "    emb3 = Embedding(product_id_emb_matrix.shape[0], product_id_emb_matrix.shape[1],\n",
    "                      weights=[product_id_emb_matrix], trainable=False)(prodid)\n",
    "    \n",
    "#     emb4 = Embedding(92, 18, embeddings_regularizer=kern_reg)(timeid)\n",
    "    emb5 = Embedding(20, 50, embeddings_regularizer=kern_reg)(pcid)\n",
    "    emb6 = Embedding(338, 100, embeddings_regularizer=kern_reg)(inid)\n",
    "    \n",
    "    sdrop = SpatialDropout1D(sp_drop)\n",
    "    x = Concatenate()([sdrop(emb0), sdrop(emb1), sdrop(emb2), sdrop(emb3), sdrop(emb5), sdrop(emb6)])\n",
    "    \n",
    "    # x = Dropout(drop_p)(Bidirectional(CuDNNGRU(128, return_sequences=True))(x))\n",
    "    \n",
    "    x = Dropout(drop_p)(Bidirectional(LSTM(256, return_sequences=True))(x))\n",
    "#     x2 = Dropout(drop_p)(Bidirectional(CuDNNLSTM(128, return_sequences=True))(x1))\n",
    "#     x3 = Dropout(drop_p)(Bidirectional(CuDNNLSTM(128, return_sequences=True))(x2))\n",
    "#     x = Add()([x1, x3])\n",
    "#     x = Dropout(drop_p)(x)\n",
    "    # x2 = Dropout(drop_p)(Bidirectional(CuDNNGRU(50, return_sequences=True))(x))\n",
    "    # x = Concatenate()([x1, x2])\n",
    "    #mask = Lambda(lambda x: K.cast(K.greater(K.expand_dims(x, 2), 0), 'float32'))(cid)\n",
    "    #x = Attention(8, 32)([x, x, x, mask])\n",
    "    x = TimeDistributed(Dense(256, activation=\"tanh\"))(x)\n",
    "    x_max = Lambda(lambda x: K.max(x, axis=1), output_shape=(256,))(x)\n",
    "    x_avg = Lambda(lambda x: K.mean(x, axis=1), output_shape=(256,))(x)\n",
    "    \n",
    "    dnn_input = Concatenate()([x_max, x_avg])\n",
    "    output = Dropout(0.2)(Dense(512, activation='relu')(dnn_input))\n",
    "    output = Dense(256, activation='relu')(output)\n",
    "    pred = Dense(10, activation=\"softmax\")(output)\n",
    "    \n",
    "    return Model(inputs=[cid, aderid, adid, prodid, pcid, inid], outputs=pred)"
   ]
  },
  {
   "cell_type": "markdown",
   "metadata": {},
   "source": [
    "# 加载测试集数据"
   ]
  },
  {
   "cell_type": "code",
   "execution_count": 11,
   "metadata": {},
   "outputs": [
    {
     "name": "stdout",
     "output_type": "stream",
     "text": [
      "(1000000, 150) (1000000, 150) (1000000, 150)\n",
      "CPU times: user 24 ms, sys: 2.29 s, total: 2.32 s\n",
      "Wall time: 22.9 s\n"
     ]
    }
   ],
   "source": [
    "%%time\n",
    "\n",
    "test_cid = np.load(\"data/nn_data/test_cid.npy\")\n",
    "test_ader = np.load(\"data/nn_data/test_ader.npy\")\n",
    "test_adid = np.load(\"data/nn_data/test_adid.npy\")\n",
    "test_pid = np.load(\"data/nn_data/test_pid.npy\")\n",
    "test_pcat = np.load(\"data/nn_data/test_pcat.npy\")\n",
    "test_ind = np.load(\"data/nn_data/test_ind.npy\")\n",
    "\n",
    "# test_cid = test_cid[:, :140]\n",
    "# test_ader = test_ader[:, :140]\n",
    "# test_adid = test_adid[:, :140]\n",
    "# test_pid = test_pid[:, :140]\n",
    "# test_pcat = test_pcat[:, :140]\n",
    "# test_ind = test_ind[:, :140]\n",
    "\n",
    "print(test_cid.shape, test_pid.shape, test_ind.shape)"
   ]
  },
  {
   "cell_type": "code",
   "execution_count": 12,
   "metadata": {},
   "outputs": [
    {
     "name": "stdout",
     "output_type": "stream",
     "text": [
      "(3000000, 10)\n"
     ]
    }
   ],
   "source": [
    "train_age = keras.utils.to_categorical(train_age)\n",
    "print(train_age.shape)\n",
    "\n",
    "pred_test_age = np.zeros((test_cid.shape[0],10))\n",
    "oof_train = np.zeros((train_cid.shape[0], 10))"
   ]
  },
  {
   "cell_type": "code",
   "execution_count": 13,
   "metadata": {},
   "outputs": [
    {
     "name": "stdout",
     "output_type": "stream",
     "text": [
      "              total        used        free      shared  buff/cache   available\n",
      "Mem:         112298       26237       32855          18       53205       85884\n",
      "Swap:             0           0           0\n"
     ]
    }
   ],
   "source": [
    "!free -m"
   ]
  },
  {
   "cell_type": "code",
   "execution_count": null,
   "metadata": {},
   "outputs": [
    {
     "name": "stdout",
     "output_type": "stream",
     "text": [
      "02:42:17 : fold : 0\n",
      "\n",
      "WARNING:tensorflow:From /opt/conda/envs/tensorflow_py3/lib/python3.6/site-packages/keras/backend/tensorflow_backend.py:95: The name tf.reset_default_graph is deprecated. Please use tf.compat.v1.reset_default_graph instead.\n",
      "\n",
      "WARNING:tensorflow:From /opt/conda/envs/tensorflow_py3/lib/python3.6/site-packages/keras/backend/tensorflow_backend.py:98: The name tf.placeholder_with_default is deprecated. Please use tf.compat.v1.placeholder_with_default instead.\n",
      "\n",
      "WARNING:tensorflow:From /opt/conda/envs/tensorflow_py3/lib/python3.6/site-packages/keras/backend/tensorflow_backend.py:102: The name tf.get_default_graph is deprecated. Please use tf.compat.v1.get_default_graph instead.\n",
      "\n",
      "WARNING:tensorflow:From /opt/conda/envs/tensorflow_py3/lib/python3.6/site-packages/keras/backend/tensorflow_backend.py:517: The name tf.placeholder is deprecated. Please use tf.compat.v1.placeholder instead.\n",
      "\n",
      "WARNING:tensorflow:From /opt/conda/envs/tensorflow_py3/lib/python3.6/site-packages/keras/backend/tensorflow_backend.py:4138: The name tf.random_uniform is deprecated. Please use tf.random.uniform instead.\n",
      "\n",
      "WARNING:tensorflow:From /opt/conda/envs/tensorflow_py3/lib/python3.6/site-packages/keras/backend/tensorflow_backend.py:174: The name tf.get_default_session is deprecated. Please use tf.compat.v1.get_default_session instead.\n",
      "\n",
      "WARNING:tensorflow:From /opt/conda/envs/tensorflow_py3/lib/python3.6/site-packages/keras/backend/tensorflow_backend.py:181: The name tf.ConfigProto is deprecated. Please use tf.compat.v1.ConfigProto instead.\n",
      "\n",
      "WARNING:tensorflow:From /opt/conda/envs/tensorflow_py3/lib/python3.6/site-packages/keras/backend/tensorflow_backend.py:186: The name tf.Session is deprecated. Please use tf.compat.v1.Session instead.\n",
      "\n",
      "WARNING:tensorflow:From /opt/conda/envs/tensorflow_py3/lib/python3.6/site-packages/keras/backend/tensorflow_backend.py:190: The name tf.global_variables is deprecated. Please use tf.compat.v1.global_variables instead.\n",
      "\n",
      "WARNING:tensorflow:From /opt/conda/envs/tensorflow_py3/lib/python3.6/site-packages/keras/backend/tensorflow_backend.py:199: The name tf.is_variable_initialized is deprecated. Please use tf.compat.v1.is_variable_initialized instead.\n",
      "\n",
      "WARNING:tensorflow:From /opt/conda/envs/tensorflow_py3/lib/python3.6/site-packages/keras/backend/tensorflow_backend.py:206: The name tf.variables_initializer is deprecated. Please use tf.compat.v1.variables_initializer instead.\n",
      "\n",
      "WARNING:tensorflow:From /opt/conda/envs/tensorflow_py3/lib/python3.6/site-packages/keras/backend/tensorflow_backend.py:3445: calling dropout (from tensorflow.python.ops.nn_ops) with keep_prob is deprecated and will be removed in a future version.\n",
      "Instructions for updating:\n",
      "Please use `rate` instead of `keep_prob`. Rate should be set to `rate = 1 - keep_prob`.\n",
      "WARNING:tensorflow:From /opt/conda/envs/tensorflow_py3/lib/python3.6/site-packages/keras/optimizers.py:790: The name tf.train.Optimizer is deprecated. Please use tf.compat.v1.train.Optimizer instead.\n",
      "\n",
      "WARNING:tensorflow:From /opt/conda/envs/tensorflow_py3/lib/python3.6/site-packages/keras/backend/tensorflow_backend.py:3295: The name tf.log is deprecated. Please use tf.math.log instead.\n",
      "\n",
      "WARNING:tensorflow:From /opt/conda/envs/tensorflow_py3/lib/python3.6/site-packages/tensorflow_core/python/ops/math_grad.py:1424: where (from tensorflow.python.ops.array_ops) is deprecated and will be removed in a future version.\n",
      "Instructions for updating:\n",
      "Use tf.where in 2.0, which has the same broadcast rule as np.where\n",
      "WARNING:tensorflow:From /opt/conda/envs/tensorflow_py3/lib/python3.6/site-packages/keras/backend/tensorflow_backend.py:986: The name tf.assign_add is deprecated. Please use tf.compat.v1.assign_add instead.\n",
      "\n",
      "WARNING:tensorflow:From /opt/conda/envs/tensorflow_py3/lib/python3.6/site-packages/keras/backend/tensorflow_backend.py:973: The name tf.assign is deprecated. Please use tf.compat.v1.assign instead.\n",
      "\n",
      "Train on 2400000 samples, validate on 600000 samples\n",
      "Epoch 1/40\n",
      "2400000/2400000 [==============================] - 2888s 1ms/step - loss: 1.3082 - acc: 0.4587 - val_loss: 1.2347 - val_acc: 0.4867\n",
      "\n",
      "Epoch 00001: val_acc improved from -inf to 0.48673, saving model to save_model/age_lstm_fold_1.h5\n",
      "Epoch 2/40\n",
      "2400000/2400000 [==============================] - 2903s 1ms/step - loss: 1.2427 - acc: 0.4844 - val_loss: 1.2122 - val_acc: 0.4958\n",
      "\n",
      "Epoch 00002: val_acc improved from 0.48673 to 0.49577, saving model to save_model/age_lstm_fold_1.h5\n",
      "Epoch 3/40\n",
      "2400000/2400000 [==============================] - 2897s 1ms/step - loss: 1.2214 - acc: 0.4924 - val_loss: 1.2032 - val_acc: 0.4995\n",
      "\n",
      "Epoch 00003: val_acc improved from 0.49577 to 0.49950, saving model to save_model/age_lstm_fold_1.h5\n",
      "Epoch 4/40\n",
      "2400000/2400000 [==============================] - 2898s 1ms/step - loss: 1.2086 - acc: 0.4974 - val_loss: 1.1969 - val_acc: 0.5020\n",
      "\n",
      "Epoch 00004: val_acc improved from 0.49950 to 0.50195, saving model to save_model/age_lstm_fold_1.h5\n",
      "Epoch 5/40\n",
      "2400000/2400000 [==============================] - 2898s 1ms/step - loss: 1.1986 - acc: 0.5012 - val_loss: 1.1937 - val_acc: 0.5026\n",
      "\n",
      "Epoch 00005: val_acc improved from 0.50195 to 0.50257, saving model to save_model/age_lstm_fold_1.h5\n",
      "Epoch 6/40\n",
      "2400000/2400000 [==============================] - 2905s 1ms/step - loss: 1.1911 - acc: 0.5038 - val_loss: 1.1957 - val_acc: 0.5022\n",
      "\n",
      "Epoch 00006: val_acc did not improve from 0.50257\n",
      "\n",
      "Epoch 00006: ReduceLROnPlateau reducing learning rate to 0.0005000000237487257.\n",
      "Epoch 7/40\n",
      "2400000/2400000 [==============================] - 2913s 1ms/step - loss: 1.1686 - acc: 0.5124 - val_loss: 1.1814 - val_acc: 0.5079\n",
      "\n",
      "Epoch 00007: val_acc improved from 0.50257 to 0.50788, saving model to save_model/age_lstm_fold_1.h5\n",
      "Epoch 8/40\n",
      "2089984/2400000 [=========================>....] - ETA: 5:40 - loss: 1.1595 - acc: 0.5157"
     ]
    },
    {
     "name": "stderr",
     "output_type": "stream",
     "text": [
      "IOPub message rate exceeded.\n",
      "The notebook server will temporarily stop sending output\n",
      "to the client in order to avoid crashing it.\n",
      "To change this limit, set the config variable\n",
      "`--NotebookApp.iopub_msg_rate_limit`.\n",
      "\n",
      "Current values:\n",
      "NotebookApp.iopub_msg_rate_limit=1000.0 (msgs/sec)\n",
      "NotebookApp.rate_limit_window=3.0 (secs)\n",
      "\n"
     ]
    },
    {
     "name": "stdout",
     "output_type": "stream",
     "text": [
      "2400000/2400000 [==============================] - 2914s 1ms/step - loss: 1.1544 - acc: 0.5181 - val_loss: 1.1825 - val_acc: 0.5089\n",
      "\n",
      "Epoch 00009: val_acc improved from 0.50836 to 0.50888, saving model to save_model/age_lstm_fold_1.h5\n",
      "Epoch 10/40\n",
      " 522240/2400000 [=====>........................] - ETA: 34:26 - loss: 1.1453 - acc: 0.5206"
     ]
    },
    {
     "name": "stderr",
     "output_type": "stream",
     "text": [
      "IOPub message rate exceeded.\n",
      "The notebook server will temporarily stop sending output\n",
      "to the client in order to avoid crashing it.\n",
      "To change this limit, set the config variable\n",
      "`--NotebookApp.iopub_msg_rate_limit`.\n",
      "\n",
      "Current values:\n",
      "NotebookApp.iopub_msg_rate_limit=1000.0 (msgs/sec)\n",
      "NotebookApp.rate_limit_window=3.0 (secs)\n",
      "\n"
     ]
    },
    {
     "name": "stdout",
     "output_type": "stream",
     "text": [
      "2400000/2400000 [==============================] - 2914s 1ms/step - loss: 1.1501 - acc: 0.5194 - val_loss: 1.1821 - val_acc: 0.5075\n",
      "\n",
      "Epoch 00010: val_acc did not improve from 0.50888\n",
      "\n",
      "Epoch 00010: ReduceLROnPlateau reducing learning rate to 0.0002500000118743628.\n",
      "Epoch 11/40\n",
      "1391104/2400000 [================>.............] - ETA: 18:31 - loss: 1.1365 - acc: 0.5242"
     ]
    },
    {
     "name": "stderr",
     "output_type": "stream",
     "text": [
      "IOPub message rate exceeded.\n",
      "The notebook server will temporarily stop sending output\n",
      "to the client in order to avoid crashing it.\n",
      "To change this limit, set the config variable\n",
      "`--NotebookApp.iopub_msg_rate_limit`.\n",
      "\n",
      "Current values:\n",
      "NotebookApp.iopub_msg_rate_limit=1000.0 (msgs/sec)\n",
      "NotebookApp.rate_limit_window=3.0 (secs)\n",
      "\n"
     ]
    },
    {
     "name": "stdout",
     "output_type": "stream",
     "text": [
      "2400000/2400000 [==============================] - 2919s 1ms/step - loss: 1.1366 - acc: 0.5241 - val_loss: 1.1770 - val_acc: 0.5111\n",
      "\n",
      "Epoch 00011: val_acc improved from 0.50888 to 0.51106, saving model to save_model/age_lstm_fold_1.h5\n",
      "Epoch 12/40\n",
      "2400000/2400000 [==============================] - 2915s 1ms/step - loss: 1.1320 - acc: 0.5262 - val_loss: 1.1764 - val_acc: 0.5108\n",
      "\n",
      "Epoch 00012: val_acc did not improve from 0.51106\n",
      "\n",
      "Epoch 00012: ReduceLROnPlateau reducing learning rate to 0.0001250000059371814.\n",
      "Epoch 13/40\n",
      "2399744/2400000 [============================>.] - ETA: 0s - loss: 1.1242 - acc: 0.5294"
     ]
    }
   ],
   "source": [
    "for idx, (trn_idx, val_idx) in enumerate(splits):\n",
    " \n",
    "    write_log(\"fold : {}\".format(idx))\n",
    "    K.clear_session()\n",
    "\n",
    "    with tf.device('/cpu:0'):\n",
    "        model = get_model(maxlen, w2v_size, drop_p, sp_drop)\n",
    "        # print(model.summary())\n",
    "        \n",
    "    if len(gpus)>=2:\n",
    "        model = multi_gpu_model(model, gpus=len(gpus))\n",
    "    model.compile(loss='categorical_crossentropy', optimizer=Adam(0.001), metrics=['accuracy'])\n",
    "    \n",
    "    filepath = \"save_model/age_lstm_fold_{}.h5\".format(idx+1)\n",
    "    checkpoint = ModelCheckpoint(filepath, monitor='val_acc', verbose=1, save_best_only=True, mode='max', save_weights_only=True)\n",
    "    reduce_lr = ReduceLROnPlateau(monitor='val_acc', factor=0.5, patience=1, min_lr=0.00005, verbose=1)\n",
    "    earlystopping = EarlyStopping(monitor='val_acc', min_delta=0.0001, patience=2, verbose=1, mode='max')\n",
    "    callbacks = [checkpoint, reduce_lr, earlystopping]\n",
    "    \n",
    "    hist = model.fit([train_cid[trn_idx], train_ader[trn_idx], train_adid[trn_idx], \n",
    "                      train_pid[trn_idx], train_pcat[trn_idx], train_ind[trn_idx]], train_age[trn_idx], \n",
    "                     validation_data=([train_cid[val_idx], train_ader[val_idx], train_adid[val_idx],\n",
    "                                        train_pid[val_idx], train_pcat[val_idx], train_ind[val_idx]], train_age[val_idx]),\n",
    "                     epochs=40, batch_size=512, callbacks=callbacks, verbose=1)\n",
    "    write_log(str(hist.history))\n",
    "    \n",
    "    model.load_weights(\"save_model/age_lstm_fold_{}.h5\".format(idx+1))\n",
    "    oof_train[val_idx] = model.predict([train_cid[val_idx], train_ader[val_idx], train_adid[val_idx],\n",
    "                                        train_pid[val_idx], train_pcat[val_idx], train_ind[val_idx]], batch_size=1024, verbose=1)\n",
    "    per_pred = model.predict([test_cid, test_ader, test_adid, test_pid, test_pcat, test_ind], \n",
    "                             batch_size=2048, verbose=1)\n",
    "    \n",
    "    pred_test_age += per_pred / len(splits)\n",
    "#     break\n",
    "\n",
    "np.save(\"data/nn_data/oof_train_age_lstm.npy\", oof_train)\n",
    "np.save(\"data/nn_data/pred_test_age_lstm.npy\", pred_test_age)"
   ]
  },
  {
   "cell_type": "markdown",
   "metadata": {},
   "source": [
    "# 加载模型并测试"
   ]
  },
  {
   "cell_type": "code",
   "execution_count": null,
   "metadata": {
    "scrolled": true
   },
   "outputs": [
    {
     "name": "stdout",
     "output_type": "stream",
     "text": [
      "01:36:34 : fold : 0\n",
      "\n",
      "WARNING:tensorflow:From /opt/conda/envs/tensorflow_py3/lib/python3.6/site-packages/keras/backend/tensorflow_backend.py:95: The name tf.reset_default_graph is deprecated. Please use tf.compat.v1.reset_default_graph instead.\n",
      "\n",
      "WARNING:tensorflow:From /opt/conda/envs/tensorflow_py3/lib/python3.6/site-packages/keras/backend/tensorflow_backend.py:98: The name tf.placeholder_with_default is deprecated. Please use tf.compat.v1.placeholder_with_default instead.\n",
      "\n",
      "WARNING:tensorflow:From /opt/conda/envs/tensorflow_py3/lib/python3.6/site-packages/keras/backend/tensorflow_backend.py:102: The name tf.get_default_graph is deprecated. Please use tf.compat.v1.get_default_graph instead.\n",
      "\n",
      "WARNING:tensorflow:From /opt/conda/envs/tensorflow_py3/lib/python3.6/site-packages/keras/backend/tensorflow_backend.py:517: The name tf.placeholder is deprecated. Please use tf.compat.v1.placeholder instead.\n",
      "\n",
      "WARNING:tensorflow:From /opt/conda/envs/tensorflow_py3/lib/python3.6/site-packages/keras/backend/tensorflow_backend.py:4138: The name tf.random_uniform is deprecated. Please use tf.random.uniform instead.\n",
      "\n",
      "WARNING:tensorflow:From /opt/conda/envs/tensorflow_py3/lib/python3.6/site-packages/keras/backend/tensorflow_backend.py:174: The name tf.get_default_session is deprecated. Please use tf.compat.v1.get_default_session instead.\n",
      "\n",
      "WARNING:tensorflow:From /opt/conda/envs/tensorflow_py3/lib/python3.6/site-packages/keras/backend/tensorflow_backend.py:181: The name tf.ConfigProto is deprecated. Please use tf.compat.v1.ConfigProto instead.\n",
      "\n",
      "WARNING:tensorflow:From /opt/conda/envs/tensorflow_py3/lib/python3.6/site-packages/keras/backend/tensorflow_backend.py:186: The name tf.Session is deprecated. Please use tf.compat.v1.Session instead.\n",
      "\n",
      "WARNING:tensorflow:From /opt/conda/envs/tensorflow_py3/lib/python3.6/site-packages/keras/backend/tensorflow_backend.py:190: The name tf.global_variables is deprecated. Please use tf.compat.v1.global_variables instead.\n",
      "\n",
      "WARNING:tensorflow:From /opt/conda/envs/tensorflow_py3/lib/python3.6/site-packages/keras/backend/tensorflow_backend.py:199: The name tf.is_variable_initialized is deprecated. Please use tf.compat.v1.is_variable_initialized instead.\n",
      "\n",
      "WARNING:tensorflow:From /opt/conda/envs/tensorflow_py3/lib/python3.6/site-packages/keras/backend/tensorflow_backend.py:206: The name tf.variables_initializer is deprecated. Please use tf.compat.v1.variables_initializer instead.\n",
      "\n",
      "WARNING:tensorflow:From /opt/conda/envs/tensorflow_py3/lib/python3.6/site-packages/keras/backend/tensorflow_backend.py:3445: calling dropout (from tensorflow.python.ops.nn_ops) with keep_prob is deprecated and will be removed in a future version.\n",
      "Instructions for updating:\n",
      "Please use `rate` instead of `keep_prob`. Rate should be set to `rate = 1 - keep_prob`.\n",
      "WARNING:tensorflow:From /opt/conda/envs/tensorflow_py3/lib/python3.6/site-packages/keras/optimizers.py:790: The name tf.train.Optimizer is deprecated. Please use tf.compat.v1.train.Optimizer instead.\n",
      "\n",
      "WARNING:tensorflow:From /opt/conda/envs/tensorflow_py3/lib/python3.6/site-packages/keras/backend/tensorflow_backend.py:3295: The name tf.log is deprecated. Please use tf.math.log instead.\n",
      "\n",
      "300000/300000 [==============================] - 61s 203us/step\n",
      "1000000/1000000 [==============================] - 187s 187us/step\n",
      "01:42:27 : fold : 1\n",
      "\n",
      "300000/300000 [==============================] - 57s 189us/step\n",
      "1000000/1000000 [==============================] - 189s 189us/step\n",
      "01:48:19 : fold : 2\n",
      "\n",
      "300000/300000 [==============================] - 57s 190us/step\n",
      "1000000/1000000 [==============================] - 189s 189us/step\n",
      "01:54:11 : fold : 3\n",
      "\n",
      "300000/300000 [==============================] - 57s 189us/step\n",
      "1000000/1000000 [==============================] - 188s 188us/step\n",
      "02:00:03 : fold : 4\n",
      "\n",
      "300000/300000 [==============================] - 57s 190us/step\n",
      "1000000/1000000 [==============================] - 188s 188us/step\n",
      "02:05:55 : fold : 5\n",
      "\n",
      "300000/300000 [==============================] - 56s 188us/step\n",
      "1000000/1000000 [==============================] - 188s 188us/step\n",
      "02:11:45 : fold : 6\n",
      "\n",
      "300000/300000 [==============================] - 57s 188us/step\n",
      "1000000/1000000 [==============================] - 187s 187us/step\n",
      "02:17:35 : fold : 7\n",
      "\n",
      "300000/300000 [==============================] - 57s 190us/step\n",
      "1000000/1000000 [==============================] - 189s 189us/step\n",
      "02:23:28 : fold : 8\n",
      "\n",
      "300000/300000 [==============================] - 57s 191us/step\n",
      "300000/300000 [==============================] - 57s 190us/step\n",
      " 402432/1000000 [===========>..................] - ETA: 1:52"
     ]
    }
   ],
   "source": [
    "for idx, (trn_idx, val_idx) in enumerate(splits):\n",
    "\n",
    "    write_log(\"fold : {}\".format(idx))\n",
    "    K.clear_session()\n",
    "\n",
    "    with tf.device('/cpu:0'):\n",
    "        model = get_model(maxlen, w2v_size, drop_p, sp_drop)\n",
    "        # print(model.summary())\n",
    "        \n",
    "    if len(gpus)>=2:\n",
    "        model = multi_gpu_model(model, gpus=len(gpus))\n",
    "    model.compile(loss='categorical_crossentropy', optimizer=Adam(0.001), metrics=['accuracy'])\n",
    "    \n",
    "#     filepath = \"best_model_bilstm_fold_{}.h5\".format(idx+1)\n",
    "#     checkpoint = ModelCheckpoint(filepath, monitor='val_acc', verbose=1, save_best_only=True, mode='max', save_weights_only=True)\n",
    "#     reduce_lr = ReduceLROnPlateau(monitor='val_acc', factor=0.5, patience=1, min_lr=0.00005, verbose=1)\n",
    "#     earlystopping = EarlyStopping(monitor='val_acc', min_delta=0.0001, patience=2, verbose=1, mode='max')\n",
    "#     callbacks = [checkpoint, reduce_lr, earlystopping]\n",
    "    \n",
    "#     hist = model.fit([train_cid[trn_idx], train_ader[trn_idx], train_adid[trn_idx], \n",
    "#                       train_pid[trn_idx], train_pcat[trn_idx], train_ind[trn_idx]], train_age[trn_idx], \n",
    "#                      validation_data=([train_cid[val_idx], train_ader[val_idx], train_adid[val_idx],\n",
    "#                                         train_pid[val_idx], train_pcat[val_idx], train_ind[val_idx]], train_age[val_idx]),\n",
    "#                      epochs=40, batch_size=512, callbacks=callbacks, verbose=1)\n",
    "#     write_log(str(hist.history))\n",
    "    \n",
    "    model.load_weights(\"best_model_bilstm_fold_{}.h5\".format(idx+1))\n",
    "    oof_train[val_idx] = model.predict([train_cid[val_idx], train_ader[val_idx], train_adid[val_idx],\n",
    "                                        train_pid[val_idx], train_pcat[val_idx], train_ind[val_idx]], batch_size=1024, verbose=1)\n",
    "    per_pred = model.predict([test_cid, test_ader, test_adid, test_pid, test_pcat, test_ind], \n",
    "                             batch_size=1024, verbose=1)\n",
    "    \n",
    "    pred_test_age += per_pred / len(splits)\n",
    "# #     break\n",
    "\n",
    "np.save(\"data/nn_data/oof_train.npy\", oof_train)\n",
    "np.save(\"data/nn_data/pred_test_age.npy\", pred_test_age)"
   ]
  },
  {
   "cell_type": "markdown",
   "metadata": {},
   "source": [
    "# 后处理"
   ]
  },
  {
   "cell_type": "code",
   "execution_count": null,
   "metadata": {},
   "outputs": [
    {
     "name": "stdout",
     "output_type": "stream",
     "text": [
      "round:  1\n",
      "0.5123206666666666\n",
      "0.512323\n",
      "0.5123246666666667\n",
      "0.5123336666666667\n",
      "0.5123363333333333\n",
      "0.512339\n",
      "0.512346\n",
      "0.5123476666666666\n",
      "0.512348\n",
      "0.5123603333333333\n",
      "0.5123643333333333\n",
      "0.5123766666666667\n",
      "0.512384\n",
      "0.5123863333333334\n",
      "0.5123893333333334\n",
      "0.512392\n",
      "0.512398\n",
      "round:  2\n",
      "0.5124043333333334\n",
      "round:  3\n"
     ]
    }
   ],
   "source": [
    "# ```PYTHON\n",
    "####opt\n",
    "class_num=10\n",
    "weights = [1.0]*class_num\n",
    "\n",
    "def search_weight(valid_y, raw_prob, init_weight=[1.0]*class_num, step=0.001):\n",
    "    weight = init_weight.copy()\n",
    "    f_best = accuracy_score(y_true=valid_y, y_pred=raw_prob.argmax(axis=1))\n",
    "    flag_score = 0\n",
    "    round_num = 1\n",
    "    while(flag_score != f_best):\n",
    "        print(\"round: \", round_num)\n",
    "        round_num += 1\n",
    "        flag_score = f_best\n",
    "        for c in range(class_num):\n",
    "            for n_w in range(0, 2000,10):\n",
    "                num = n_w * step\n",
    "                new_weight = weight.copy()\n",
    "                new_weight[c] = num\n",
    "\n",
    "                prob_df = raw_prob.copy()\n",
    "                prob_df = prob_df * np.array(new_weight)\n",
    "\n",
    "                f = accuracy_score(y_true=valid_y, y_pred=prob_df.argmax(axis=1))\n",
    "                if f > f_best:\n",
    "                    weight = new_weight.copy()\n",
    "                    f_best = f\n",
    "                    print(f)\n",
    "    return weight\n",
    "\n",
    "weight = search_weight(train_age.argmax(-1), oof_train)\n",
    "print(weight)"
   ]
  },
  {
   "cell_type": "code",
   "execution_count": 6,
   "metadata": {},
   "outputs": [],
   "source": [
    "train_age = np.load(\"data/nn_data/train_age.npy\")\n",
    "oof_train = np.load(\"data/nn_data/oof_train.npy\")\n",
    "pred_test_age = np.load(\"data/nn_data/pred_test_age.npy\")"
   ]
  },
  {
   "cell_type": "code",
   "execution_count": 7,
   "metadata": {},
   "outputs": [
    {
     "data": {
      "text/plain": [
       "array([3, 9, 6, ..., 3, 2, 7], dtype=int32)"
      ]
     },
     "execution_count": 7,
     "metadata": {},
     "output_type": "execute_result"
    }
   ],
   "source": [
    "train_age"
   ]
  },
  {
   "cell_type": "code",
   "execution_count": 9,
   "metadata": {},
   "outputs": [],
   "source": [
    "from scipy import optimize "
   ]
  },
  {
   "cell_type": "code",
   "execution_count": 10,
   "metadata": {},
   "outputs": [
    {
     "name": "stdout",
     "output_type": "stream",
     "text": [
      "Optimization terminated successfully.\n",
      "         Current function value: -0.512440\n",
      "         Iterations: 2\n",
      "         Function evaluations: 335\n"
     ]
    }
   ],
   "source": [
    "def fun(weight):\n",
    "    tmp = oof_train * weight\n",
    "    return -accuracy_score(train_age, np.argmax(tmp, axis=1))\n",
    "\n",
    "res = optimize.fmin_powell(fun, np.asarray((0, 0, 0, 0, 0, 0, 0, 0, 0, 0)), disp=True)"
   ]
  },
  {
   "cell_type": "code",
   "execution_count": 11,
   "metadata": {},
   "outputs": [
    {
     "data": {
      "text/plain": [
       "array([2.57191034, 2.76221778, 2.69419709, 2.69762371, 2.69795621,\n",
       "       2.59238292, 2.61827807, 2.55065754, 2.55769297, 2.35621343])"
      ]
     },
     "execution_count": 11,
     "metadata": {},
     "output_type": "execute_result"
    }
   ],
   "source": [
    "res"
   ]
  },
  {
   "cell_type": "code",
   "execution_count": 13,
   "metadata": {},
   "outputs": [
    {
     "name": "stdout",
     "output_type": "stream",
     "text": [
      "0.512318\n",
      "0.5124043333333334\n",
      "0.51244\n"
     ]
    }
   ],
   "source": [
    "print(accuracy_score(train_age, oof_train.argmax(-1)))\n",
    "weight1 = np.array([0.96, 1.03, 1.0, 1.0, 1.0, 0.99, 1.0, 0.99, 1.0, 0.88])\n",
    "\n",
    "print(accuracy_score(train_age, (weight1 * oof_train).argmax(-1)))\n",
    "\n",
    "print(accuracy_score(train_age, (oof_train * res).argmax(-1)))"
   ]
  },
  {
   "cell_type": "code",
   "execution_count": null,
   "metadata": {},
   "outputs": [],
   "source": []
  },
  {
   "cell_type": "code",
   "execution_count": 16,
   "metadata": {
    "scrolled": true
   },
   "outputs": [],
   "source": [
    "# weight = np.array([0.96, 1.03, 1.0, 1.0, 1.0, 0.99, 1.0, 0.99, 1.0, 0.88])\n",
    "weight = np.array([0.82, 0.97, 1.0, 1.0, 1.0, 1.0, 1.0, 0.88, 0.97, 1.01])\n",
    "pred_test_age = pred_test_age * weight"
   ]
  },
  {
   "cell_type": "code",
   "execution_count": 32,
   "metadata": {},
   "outputs": [
    {
     "data": {
      "text/plain": [
       "3"
      ]
     },
     "execution_count": 32,
     "metadata": {},
     "output_type": "execute_result"
    }
   ],
   "source": []
  },
  {
   "cell_type": "code",
   "execution_count": 14,
   "metadata": {},
   "outputs": [
    {
     "name": "stdout",
     "output_type": "stream",
     "text": [
      "1000000/1000000 [==============================] - 171s 171us/step\n"
     ]
    }
   ],
   "source": [
    "test_pred = model.predict([test_cid, test_ader, test_pid], batch_size=512, verbose=1)"
   ]
  },
  {
   "cell_type": "code",
   "execution_count": 14,
   "metadata": {},
   "outputs": [],
   "source": [
    "age = np.argmax(res * pred_test_age, axis=1) + 1\n",
    "test_submit = pd.read_csv(\"data/submit/post_process_2.csv\")\n",
    "test_submit['predicted_age'] = age\n",
    "test_submit['predicted_gender'] += 5\n",
    "#np.save(filename+\".npy\", pred_test_age)\n",
    "test_submit.to_csv(\"data/submit/B_bilstm_10fold_post2.csv\", header=True, index=None)"
   ]
  },
  {
   "cell_type": "markdown",
   "metadata": {},
   "source": [
    "# 融合"
   ]
  },
  {
   "cell_type": "code",
   "execution_count": 2,
   "metadata": {},
   "outputs": [],
   "source": [
    "import pandas as pd\n",
    "import numpy as np\n",
    "\n",
    "test_age_pred_zhan = np.load(\"data/submit/age.npy\")\n",
    "test_gender_pred = np.load(\"data/submit/gender.npy\")\n",
    "test_age_pred_cong = np.load(\"data/nn_data/pred_test_age.npy\")"
   ]
  },
  {
   "cell_type": "code",
   "execution_count": 3,
   "metadata": {},
   "outputs": [],
   "source": [
    "test_gender_pred = (test_gender_pred > 0.5) + 1\n",
    "test_gender_pred = test_gender_pred.reshape(-1)"
   ]
  },
  {
   "cell_type": "code",
   "execution_count": 4,
   "metadata": {},
   "outputs": [
    {
     "data": {
      "text/plain": [
       "array([1, 2, 2, 1, 1, 1, 1, 1, 1, 2])"
      ]
     },
     "execution_count": 4,
     "metadata": {},
     "output_type": "execute_result"
    }
   ],
   "source": [
    "test_gender_pred[:10]"
   ]
  },
  {
   "cell_type": "code",
   "execution_count": 5,
   "metadata": {},
   "outputs": [],
   "source": [
    "test_age_pred = test_age_pred_zhan * 0.5 + test_age_pred_cong * 0.5 "
   ]
  },
  {
   "cell_type": "code",
   "execution_count": 6,
   "metadata": {},
   "outputs": [],
   "source": [
    "age = np.argmax(test_age_pred, axis=1) + 1\n",
    "test_submit = pd.read_csv(\"data/submit/post_process_2.csv\")\n",
    "test_submit['predicted_age'] = age\n",
    "test_submit['predicted_gender'] = test_gender_pred\n",
    "#np.save(filename+\".npy\", pred_test_age)\n",
    "test_submit.to_csv(\"data/submit/B_bilstm_10fold_ronghe.csv\", header=True, index=None)"
   ]
  },
  {
   "cell_type": "code",
   "execution_count": null,
   "metadata": {},
   "outputs": [],
   "source": []
  }
 ],
 "metadata": {
  "kernelspec": {
   "display_name": "conda_tensorflow_py3",
   "language": "python",
   "name": "conda_tensorflow_py3"
  },
  "language_info": {
   "codemirror_mode": {
    "name": "ipython",
    "version": 3
   },
   "file_extension": ".py",
   "mimetype": "text/x-python",
   "name": "python",
   "nbconvert_exporter": "python",
   "pygments_lexer": "ipython3",
   "version": "3.6.5"
  }
 },
 "nbformat": 4,
 "nbformat_minor": 4
}
